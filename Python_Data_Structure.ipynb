{
  "nbformat": 4,
  "nbformat_minor": 0,
  "metadata": {
    "colab": {
      "provenance": []
    },
    "kernelspec": {
      "name": "python3",
      "display_name": "Python 3"
    },
    "language_info": {
      "name": "python"
    }
  },
  "cells": [
    {
      "cell_type": "markdown",
      "source": [
        "#1. What is data stucture and why are they important?\n",
        "'''\n",
        "ans- Structures are specialized formats for organizing, storing, and accessing collections of data. They provide efficient ways to manage information based on its characteristics and intended use.\n",
        "They are important because-\n",
        "i.Choosing the right data structure significantly impacts the efficiency and performance of your program.\n",
        "ii.Well-chosen data structures can.\n",
        "iii.Simplify data manipulation (adding, removing, modifying elements).\n",
        "iv.Optimize searching and sorting operations.\n",
        "v.Conserve memory usage.\n",
        "'''\n",
        "\n",
        "#2. Explain the differnce between mutable and immutable data types using example.\n",
        "'''\n",
        "ans- Data types which can be changed after their creation is called mutable data type.example-\n"
      ],
      "metadata": {
        "id": "C95QDlRY6m2O"
      }
    },
    {
      "cell_type": "code",
      "source": [
        "my_list = [1, 2, 3, 4]\n",
        "my_list.append(5)\n",
        "print(my_list)\n",
        "\n",
        "\n",
        "\n",
        "\n"
      ],
      "metadata": {
        "colab": {
          "base_uri": "https://localhost:8080/"
        },
        "id": "psF0AxFl-DQV",
        "outputId": "56b5501b-94a1-4590-f2b0-03b01b6d1719"
      },
      "execution_count": null,
      "outputs": [
        {
          "output_type": "stream",
          "name": "stdout",
          "text": [
            "[1, 2, 3, 4, 5]\n"
          ]
        }
      ]
    },
    {
      "cell_type": "markdown",
      "source": [
        "whereas immutable data types cannot be changed after they are created. example-\n"
      ],
      "metadata": {
        "id": "RgeiDL8d_HTh"
      }
    },
    {
      "cell_type": "code",
      "source": [
        "my_tuple = (1, 2, 3, 4)\n",
        "my_tuple(2) = 5\n",
        "\n"
      ],
      "metadata": {
        "colab": {
          "base_uri": "https://localhost:8080/",
          "height": 106
        },
        "id": "RGAJWuJO_Wwk",
        "outputId": "52e8fabc-7bc1-47a8-c6c5-f7d3f74a9dbe"
      },
      "execution_count": null,
      "outputs": [
        {
          "output_type": "error",
          "ename": "SyntaxError",
          "evalue": "cannot assign to function call here. Maybe you meant '==' instead of '='? (<ipython-input-8-85078640837f>, line 2)",
          "traceback": [
            "\u001b[0;36m  File \u001b[0;32m\"<ipython-input-8-85078640837f>\"\u001b[0;36m, line \u001b[0;32m2\u001b[0m\n\u001b[0;31m    my_tuple(2) = 5\u001b[0m\n\u001b[0m    ^\u001b[0m\n\u001b[0;31mSyntaxError\u001b[0m\u001b[0;31m:\u001b[0m cannot assign to function call here. Maybe you meant '==' instead of '='?\n"
          ]
        }
      ]
    },
    {
      "cell_type": "markdown",
      "source": [],
      "metadata": {
        "id": "9LXmv711_45H"
      }
    },
    {
      "cell_type": "markdown",
      "source": [
        "#3. What are main differnce between list and tuples in python?\n",
        "'''\n",
        "ans- The main differnce between lists and tuples are-\n",
        "i.Lists can be modified but tuples cannot be modified.\n",
        "ii.Defined with square brackets.[ ] but tuples are defined with parenthesis( ).\n",
        "iii.List are slower due to mutability but tuples are faster due to immutablity.\n",
        "'''\n",
        "\n",
        "#4. Describe how dictionary store data.\n",
        "'''\n",
        "ans- A dictionary stores data in key-value pairs using a hash table. It provides fast access and is widely used when data needs to be associated or mapped uniquely, such as in configurations, data lookups, or caches.\n",
        "'''\n",
        "\n",
        "#5. Why might you use a set instead of a list in python?\n",
        "'''\n",
        "ans- We might use a set instead of a list in Python when you need to store a collection of unique elements and perform operations like membership tests or set operations efficiently.\n",
        "'''\n",
        "\n",
        "#6. What is a string in python, and how is it differnce from list?\n",
        "'''\n",
        "ans- A string in Python is a sequence of characters enclosed in single ('), double (\"), or triple (\"\"\") quotes. whereas Strings are immutable, meaning their contents cannot be changed after creation.\n",
        "'''\n",
        "\n",
        "#7. How do tuples ensure data integrity in python?\n",
        "'''\n",
        "ans- Tuples ensure data integrity in Python by being immutable, meaning their contents cannot be changed after creation.\n",
        "'''\n",
        "\n",
        "#8. What is a hash table, and how does it relate to dictionary in python?\n",
        "'''\n",
        "ans- A hash table is a foundational data structure that enables fast key-value pair storage and retrieval.\n",
        "Python dictionaries are implemented using hash tables.\n",
        "Keys in dictionaries are hashed to compute their storage location, making operations like lookup, insertion, and deletion efficient.\n",
        "'''\n",
        "\n",
        "#9. Can lists contain different data types in python?\n",
        "'''\n",
        "ans- Yes, lists contain different data types in python.\n",
        "'''\n",
        "\n",
        "#10. Explain why string is immutable in python?\n",
        "'''\n",
        "ans- Strings in Python are immutable to ensure reliability, performance optimization, thread safety, and simplicity in programming. It provides several advantages that make Python strings efficient to use.\n",
        "'''\n",
        "\n",
        "#11. What advantages do dictionary offer over lists for certain tasks?\n",
        "'''\n",
        "ans- Dictionaries are best for fast lookups, key-value mapping, and managing complex relationships.\n",
        "Lists are suitable for ordered collections and simpler tasks but are less efficient for large datasets requiring key-based access.\n",
        "'''\n",
        "\n",
        "#12. Describe a scenario where using a tuple would be preferable over a list.\n",
        "'''\n",
        "ans- A tuple would be preferable over a list when the data is immutable and should not change.\n",
        "'''\n",
        "\n",
        "#13. How do sets handle duplicate values in Python?\n",
        "'''\n",
        "ans- Sets automatically remove duplicates. When you add an item to a set, it checks whether that item already exists. If it does, the item is not added again, ensuring all elements in a set are unique.\n",
        "'''\n",
        "\n",
        "#14. How does the \"in\" keyword work differently for lists and dictionaries?\n",
        "'''\n",
        "ans-Lists: The \"in\" keyword checks if an element exists in the list.whereas\n",
        "Dictionaries: The \"in\" keyword checks if a key exists in the dictionary.\n",
        "'''\n",
        "\n",
        "#15. Can you modify the elements of a tuple? Explain why or why not.\n",
        "'''\n",
        "ans- No, you cannot modify the elements of a tuple after it is created. Tuples are immutable, meaning their content cannot be changed.\n",
        "'''\n",
        "\n",
        "\n",
        "#16. What is a nested dictionary, and give an example of its use case?\n",
        "'''\n",
        "ans- A nested dictionary is a dictionary where the values themselves are dictionaries. This allows for representing hierarchical or complex data structures.\n",
        "'''\n",
        "\n",
        "#17. Describe the time complexity of accessing elements in a dictionary.\n",
        "'''\n",
        "ans- The average time complexity for accessing elements in a dictionary by key is O(1), meaning it takes constant time to retrieve a value if the key is known. This is because dictionaries are implemented using hash tables.\n",
        "'''\n",
        "\n",
        "#18. In what situations are lists preferred over dictionaries?\n",
        "'''\n",
        "ans- Lists are preferred when:\n",
        "The order of elements matters (e.g., representing a sequence).\n",
        "You need to store a collection of duplicate items.\n",
        "You need to iterate over the elements in a specific order.\n",
        "'''\n",
        "\n",
        "#19. Why are dictionaries considered unordered, and how does that affect data retrieval?\n",
        "'''\n",
        "ans- Dictionaries are considered unordered because the elements (key-value pairs) do not have a defined order.\n",
        "'''\n",
        "\n",
        "#20. Explain the difference between a list and a dictionary in terms of data retrieval.\n",
        "'''\n",
        "ans- Lists are preferred when:\n",
        "The order of elements matters (e.g., representing a sequence).\n",
        "You need to store a collection of duplicate items.\n",
        "You need to iterate over the elements in a specific order.\n",
        "'''\n"
      ],
      "metadata": {
        "id": "5xWh8B23_7It"
      }
    },
    {
      "cell_type": "markdown",
      "source": [
        "#PRACTICAL QUESTION\n",
        "\n",
        "#1. Write a code to create a string with your name and print it.\n"
      ],
      "metadata": {
        "id": "Luv3mkIhHOgg"
      }
    },
    {
      "cell_type": "code",
      "source": [
        "my_name = \"Ibrahim\"\n",
        "print(my_name)"
      ],
      "metadata": {
        "colab": {
          "base_uri": "https://localhost:8080/"
        },
        "id": "9DNNzw9bIimo",
        "outputId": "f8103f36-349a-47c0-b0fc-93e9f981c5b9"
      },
      "execution_count": 1,
      "outputs": [
        {
          "output_type": "stream",
          "name": "stdout",
          "text": [
            "Ibrahim\n"
          ]
        }
      ]
    },
    {
      "cell_type": "markdown",
      "source": [
        "#2.Write a code to find the length of the string \"Hello World\".\n"
      ],
      "metadata": {
        "id": "aqzdnqvhHOAl"
      }
    },
    {
      "cell_type": "code",
      "source": [
        "hello_world = \"Hello World\"\n",
        "print(len(hello_world))"
      ],
      "metadata": {
        "colab": {
          "base_uri": "https://localhost:8080/"
        },
        "id": "DpKO36f6JGry",
        "outputId": "d4403586-9c05-4f31-e4a6-aed041b021ba"
      },
      "execution_count": 2,
      "outputs": [
        {
          "output_type": "stream",
          "name": "stdout",
          "text": [
            "11\n"
          ]
        }
      ]
    },
    {
      "cell_type": "markdown",
      "source": [
        "#3. Write a code to slice the firrst three characters from the string \"Python programming\"\n"
      ],
      "metadata": {
        "id": "VjuOoNLXJzXD"
      }
    },
    {
      "cell_type": "code",
      "source": [
        "python_programming = \"Python programming\"\n",
        "print(python_programming[0:3])"
      ],
      "metadata": {
        "colab": {
          "base_uri": "https://localhost:8080/"
        },
        "id": "h7ToVWDzJ3cS",
        "outputId": "55b194ee-0ca6-41c4-8336-c8a91bec5b92"
      },
      "execution_count": 4,
      "outputs": [
        {
          "output_type": "stream",
          "name": "stdout",
          "text": [
            "Pyt\n"
          ]
        }
      ]
    },
    {
      "cell_type": "markdown",
      "source": [
        "#4. Write a code to convert the string \"hello\" to uppercase."
      ],
      "metadata": {
        "id": "agMiUjihKG7O"
      }
    },
    {
      "cell_type": "code",
      "source": [
        "hello = \"hello\"\n",
        "print(hello.upper())\n"
      ],
      "metadata": {
        "colab": {
          "base_uri": "https://localhost:8080/"
        },
        "id": "yGbsWMtrKWwk",
        "outputId": "70da00a5-93a8-4f52-f825-72788ad2cf5e"
      },
      "execution_count": 5,
      "outputs": [
        {
          "output_type": "stream",
          "name": "stdout",
          "text": [
            "HELLO\n"
          ]
        }
      ]
    },
    {
      "cell_type": "markdown",
      "source": [
        "#5. Write a code to replace the word \"apple\" with \"orange\" in the \"string\" i like apple.\n"
      ],
      "metadata": {
        "id": "z0CmQhRrKjXN"
      }
    },
    {
      "cell_type": "code",
      "source": [
        "fruit_string = \"I like apple\"\n",
        "print(fruit_string.replace(\"apple\", \"orange\"))"
      ],
      "metadata": {
        "colab": {
          "base_uri": "https://localhost:8080/"
        },
        "id": "bcY1rLlnK1R9",
        "outputId": "8235ab70-25d1-45ca-8f09-2d5093b9add1"
      },
      "execution_count": 6,
      "outputs": [
        {
          "output_type": "stream",
          "name": "stdout",
          "text": [
            "I like orange\n"
          ]
        }
      ]
    },
    {
      "cell_type": "markdown",
      "source": [
        "#6. Write a code to create a list with numbers 1 to 5 print in it.\n"
      ],
      "metadata": {
        "id": "zdci1QgVK7pN"
      }
    },
    {
      "cell_type": "code",
      "source": [
        "number_list = [ 1, 2, 3, 4, 5]\n",
        "print(number_list)"
      ],
      "metadata": {
        "colab": {
          "base_uri": "https://localhost:8080/"
        },
        "id": "BAlKhYryLXIz",
        "outputId": "eaf2b1fe-b91b-4728-fd5d-4d4e064a45fa"
      },
      "execution_count": 7,
      "outputs": [
        {
          "output_type": "stream",
          "name": "stdout",
          "text": [
            "[1, 2, 3, 4, 5]\n"
          ]
        }
      ]
    },
    {
      "cell_type": "markdown",
      "source": [
        "#7. Write a code to append the number 10 to the list [11,2,3,4]."
      ],
      "metadata": {
        "id": "MfnrDMfqLi_9"
      }
    },
    {
      "cell_type": "code",
      "source": [
        "list1 = [11, 2, 3, 4]\n",
        "list1.append(10)\n",
        "print(list1)"
      ],
      "metadata": {
        "colab": {
          "base_uri": "https://localhost:8080/"
        },
        "id": "1ChTlXOzL4P1",
        "outputId": "4584b3f7-0b2c-422e-833d-ccde6d1fc43f"
      },
      "execution_count": 8,
      "outputs": [
        {
          "output_type": "stream",
          "name": "stdout",
          "text": [
            "[11, 2, 3, 4, 10]\n"
          ]
        }
      ]
    },
    {
      "cell_type": "markdown",
      "source": [
        "#8. Write a code to remove the number 3 from the list [1,2,3,4,5]"
      ],
      "metadata": {
        "id": "5Mlrt8sPMCVL"
      }
    },
    {
      "cell_type": "code",
      "source": [
        "list2 = [1, 2, 3, 4, 5]\n",
        "list2.remove(3)\n",
        "print(list2)"
      ],
      "metadata": {
        "colab": {
          "base_uri": "https://localhost:8080/"
        },
        "id": "bIbG_uIkMTLr",
        "outputId": "6c55ec50-cec2-4f2e-fe5b-2021372d61cf"
      },
      "execution_count": 9,
      "outputs": [
        {
          "output_type": "stream",
          "name": "stdout",
          "text": [
            "[1, 2, 4, 5]\n"
          ]
        }
      ]
    },
    {
      "cell_type": "markdown",
      "source": [
        "#9. Write a code to access the second element in the list ['a','b','c','d']."
      ],
      "metadata": {
        "id": "ZJXsp10BMYY6"
      }
    },
    {
      "cell_type": "code",
      "source": [
        "list3 = ['a', 'b', 'c', 'd']\n",
        "print(list3[1])"
      ],
      "metadata": {
        "colab": {
          "base_uri": "https://localhost:8080/"
        },
        "id": "KCEaZqm1Mydn",
        "outputId": "e5965823-23ee-4604-9563-cd187520e785"
      },
      "execution_count": 12,
      "outputs": [
        {
          "output_type": "stream",
          "name": "stdout",
          "text": [
            "b\n"
          ]
        }
      ]
    },
    {
      "cell_type": "markdown",
      "source": [
        "#10. Write a code to reverse the list (10,20,30,40,50).\n"
      ],
      "metadata": {
        "id": "Sw3DkeEGNImv"
      }
    },
    {
      "cell_type": "code",
      "source": [
        "tuple1 = [10, 20, 30, 40, 50]\n",
        "reversed_tuple = tuple1(reversed(tuple1))\n",
        "print(reversed_tuple)"
      ],
      "metadata": {
        "id": "tOc4AbetNVhH"
      },
      "execution_count": null,
      "outputs": []
    },
    {
      "cell_type": "markdown",
      "source": [
        "#11. Write a code to create a tuple with the elements 10, 20, 30 and print it.\n"
      ],
      "metadata": {
        "id": "OsVOWztlN-ax"
      }
    },
    {
      "cell_type": "code",
      "source": [
        "tuple2 = (10, 20, 30)\n",
        "print(tuple2)"
      ],
      "metadata": {
        "colab": {
          "base_uri": "https://localhost:8080/"
        },
        "id": "wMtthv49PdFq",
        "outputId": "bc830639-25f6-4643-864f-aac0840d5247"
      },
      "execution_count": 14,
      "outputs": [
        {
          "output_type": "stream",
          "name": "stdout",
          "text": [
            "(10, 20, 30)\n"
          ]
        }
      ]
    },
    {
      "cell_type": "markdown",
      "source": [
        "#12. write a code to access the first element of the tuple (apple, banana, cherry).\n"
      ],
      "metadata": {
        "id": "oHsIHsVkPhvA"
      }
    },
    {
      "cell_type": "code",
      "source": [
        "tuple3 = (\"apple\", \"banana\", \"cherry\")\n",
        "print(tuple3[0])"
      ],
      "metadata": {
        "colab": {
          "base_uri": "https://localhost:8080/"
        },
        "id": "gqdNVaLKPsiJ",
        "outputId": "7f785222-8f89-45fc-cdd5-a48268f67f44"
      },
      "execution_count": 19,
      "outputs": [
        {
          "output_type": "stream",
          "name": "stdout",
          "text": [
            "apple\n"
          ]
        }
      ]
    },
    {
      "cell_type": "markdown",
      "source": [
        "#13Write a code to count how many times the number 2 appears in the tuple (1,2,3,2,4,2)."
      ],
      "metadata": {
        "id": "yt6RHuXWP2lf"
      }
    },
    {
      "cell_type": "code",
      "source": [
        "tuple4 = (1,2,3,2,4,2)\n",
        "print(tuple4.count(2))"
      ],
      "metadata": {
        "colab": {
          "base_uri": "https://localhost:8080/"
        },
        "id": "5kTUWkk0QngU",
        "outputId": "0f747268-0d99-4cac-a35a-96ece63e8729"
      },
      "execution_count": 21,
      "outputs": [
        {
          "output_type": "stream",
          "name": "stdout",
          "text": [
            "3\n"
          ]
        }
      ]
    },
    {
      "cell_type": "markdown",
      "source": [
        "#14. write a code to find the index of the element \"cat\" in the tuple (dog,cat, rabbit)."
      ],
      "metadata": {
        "id": "X-0CeGZwQ4s2"
      }
    },
    {
      "cell_type": "code",
      "source": [
        "tuple5 = (\"dog\", \"cat\", \"rabbit\")\n",
        "print(tuple5.index(\"cat\"))"
      ],
      "metadata": {
        "colab": {
          "base_uri": "https://localhost:8080/"
        },
        "id": "vCtloRgbRIN3",
        "outputId": "33d8eb36-0387-4cca-d4ce-aa2efaa2d0e2"
      },
      "execution_count": 22,
      "outputs": [
        {
          "output_type": "stream",
          "name": "stdout",
          "text": [
            "1\n"
          ]
        }
      ]
    },
    {
      "cell_type": "markdown",
      "source": [
        "#15. Write acode tp check if the element \"banana\" is in the tuple (apple, orange, banana)."
      ],
      "metadata": {
        "id": "4aIrPy3eRSmE"
      }
    },
    {
      "cell_type": "code",
      "source": [
        "tuple6 = (\"apple\", \"orange\", \"banana\")\n",
        "print(\"banana\" in tuple6)"
      ],
      "metadata": {
        "colab": {
          "base_uri": "https://localhost:8080/"
        },
        "id": "K9D3_JlORix2",
        "outputId": "93799a76-bd11-4f87-c009-83c9f2663910"
      },
      "execution_count": 23,
      "outputs": [
        {
          "output_type": "stream",
          "name": "stdout",
          "text": [
            "True\n"
          ]
        }
      ]
    },
    {
      "cell_type": "markdown",
      "source": [
        "#16. Write a code to create a cell with the elements 1,2,3,4,5 and print it.\n"
      ],
      "metadata": {
        "id": "sDenj5TcRnG7"
      }
    },
    {
      "cell_type": "code",
      "source": [
        "set1 = {1, 2, 3, 4, 5}\n",
        "print(set1)"
      ],
      "metadata": {
        "colab": {
          "base_uri": "https://localhost:8080/"
        },
        "id": "-QOjvdZLR59W",
        "outputId": "05d10c43-d631-4cc2-9b56-f6d432781c1e"
      },
      "execution_count": 24,
      "outputs": [
        {
          "output_type": "stream",
          "name": "stdout",
          "text": [
            "{1, 2, 3, 4, 5}\n"
          ]
        }
      ]
    },
    {
      "cell_type": "markdown",
      "source": [
        "#17. Write a code to add the element 6 to the set {1, 2, 3, 4,}.\n"
      ],
      "metadata": {
        "id": "kZrUoxmTSClr"
      }
    },
    {
      "cell_type": "code",
      "source": [
        "set2 = {1, 2, 3, 4}\n",
        "set2.add(6)\n",
        "print(set2)"
      ],
      "metadata": {
        "colab": {
          "base_uri": "https://localhost:8080/"
        },
        "id": "-SHzR69ISQuF",
        "outputId": "05560730-97ea-4a98-f101-b8ee3bbc3122"
      },
      "execution_count": 25,
      "outputs": [
        {
          "output_type": "stream",
          "name": "stdout",
          "text": [
            "{1, 2, 3, 4, 6}\n"
          ]
        }
      ]
    },
    {
      "cell_type": "markdown",
      "source": [
        "#18. Write a code to create a tuple with the elements 10, 20, 30 and print it.\n"
      ],
      "metadata": {
        "id": "o5pZdG8ESbpc"
      }
    },
    {
      "cell_type": "code",
      "source": [
        "tuple1 = (10, 20, 30)\n",
        "print(tuple1)"
      ],
      "metadata": {
        "colab": {
          "base_uri": "https://localhost:8080/"
        },
        "id": "Hc8Ff8CdS4lW",
        "outputId": "55c4f626-f2a8-4ffb-cc18-f2deaa8d3c91"
      },
      "execution_count": 26,
      "outputs": [
        {
          "output_type": "stream",
          "name": "stdout",
          "text": [
            "(10, 20, 30)\n"
          ]
        }
      ]
    },
    {
      "cell_type": "markdown",
      "source": [
        "#19. Write a code to access the first element of the tuple (apple, banana, cherry)."
      ],
      "metadata": {
        "id": "5fe5xegnS8w9"
      }
    },
    {
      "cell_type": "code",
      "source": [
        "tuple2 = (\"apple\", \"banana\", \"cherry\")\n",
        "print(tuple2[0])"
      ],
      "metadata": {
        "colab": {
          "base_uri": "https://localhost:8080/"
        },
        "id": "Zof36SEmTOD4",
        "outputId": "c39e8ebe-529c-4e2a-8c45-f29976a1100a"
      },
      "execution_count": 27,
      "outputs": [
        {
          "output_type": "stream",
          "name": "stdout",
          "text": [
            "apple\n"
          ]
        }
      ]
    },
    {
      "cell_type": "code",
      "source": [],
      "metadata": {
        "id": "Fcm3_rmDTZP5"
      },
      "execution_count": null,
      "outputs": []
    },
    {
      "cell_type": "markdown",
      "source": [
        "#20. Write a code to count how many times the number 2 appears in the tuple (1,2,3,2,4,2)\n"
      ],
      "metadata": {
        "id": "JBbnMZWoTZ5e"
      }
    },
    {
      "cell_type": "code",
      "source": [
        "tuple3 = (1, 2, 3, 2, 4, 2)\n",
        "print(tuple3.count(2))"
      ],
      "metadata": {
        "colab": {
          "base_uri": "https://localhost:8080/"
        },
        "id": "xL0q-AyeTsso",
        "outputId": "21972792-6211-4fa4-a540-40c7153e3e1a"
      },
      "execution_count": 28,
      "outputs": [
        {
          "output_type": "stream",
          "name": "stdout",
          "text": [
            "3\n"
          ]
        }
      ]
    },
    {
      "cell_type": "markdown",
      "source": [
        "#21. Write  a code to find the index of the element \"cat\" in the tuple (dog, cat rabbit)"
      ],
      "metadata": {
        "id": "ceGOLNANT1-L"
      }
    },
    {
      "cell_type": "code",
      "source": [
        "tuple4 = (\"dog\", \"cat\", \"rabbit\")\n",
        "print(tuple4.index(\"cat\"))"
      ],
      "metadata": {
        "colab": {
          "base_uri": "https://localhost:8080/"
        },
        "id": "dEN_gquMUGXI",
        "outputId": "5483157d-8369-493b-f22a-29079f587620"
      },
      "execution_count": 29,
      "outputs": [
        {
          "output_type": "stream",
          "name": "stdout",
          "text": [
            "1\n"
          ]
        }
      ]
    }
  ]
}